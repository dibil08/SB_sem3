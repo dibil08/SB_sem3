{
 "cells": [
  {
   "cell_type": "code",
   "execution_count": 37,
   "metadata": {},
   "outputs": [
    {
     "name": "stdout",
     "output_type": "stream",
     "text": [
      "data/perfectly_detected_ears/train/0750.png data/densenet/test/67/0750.png\n"
     ]
    }
   ],
   "source": [
    "from csv import reader \n",
    "import shutil\n",
    "path_base = 'data/perfectly_detected_ears'\n",
    "import os\n",
    "new_path_base = 'data/densenet'\n",
    "with open(path_base+'/annotations/recognition/ids.csv', 'r') as read_obj:\n",
    "    csv_reader = reader(read_obj)\n",
    "    for row in csv_reader:\n",
    "        img,id=row\n",
    "        img2 = img.split(\"/\")\n",
    "        if(img2[0]==\"test\"):\n",
    "            if not os.path.exists(new_path_base+\"/test/\"+str(id)):\n",
    "                os.makedirs(new_path_base+\"/test/\"+str(id))\n",
    "            old=path_base+\"/\"+img2[0]+\"/\"+img2[1]\n",
    "            new=new_path_base+\"/test/\"+str(id)+\"/\"+img2[1]\n",
    "            old=old.replace(\"/\",\"\\\\\")\n",
    "            new=new.replace(\"/\",\"\\\\\")\n",
    "            os.popen('copy '+old+\" \"+new)\n",
    "        else:\n",
    "            if not os.path.exists(new_path_base+\"/train/\"+str(id)):\n",
    "                os.makedirs(new_path_base+\"/train/\"+str(id))\n",
    "            old=path_base+\"/\"+img2[0]+\"/\"+img2[1]\n",
    "            new=new_path_base+\"/train/\"+str(id)+\"/\"+img2[1]\n",
    "            old=old.replace(\"/\",\"\\\\\")\n",
    "            new=new.replace(\"/\",\"\\\\\")\n",
    "            os.popen('copy '+old+\" \"+new)\n",
    "print(path_base+\"/\"+img2[0]+\"/\"+img2[1]+\" \"+new_path_base+\"/test/\"+str(id)+\"/\"+img2[1])"
   ]
  }
 ],
 "metadata": {
  "interpreter": {
   "hash": "303baa7afefb035e1550d302a745de05b987cfd3e399986f3eb98c2da1860a3d"
  },
  "kernelspec": {
   "display_name": "Python 3.8.5 64-bit ('base': conda)",
   "language": "python",
   "name": "python3"
  },
  "language_info": {
   "codemirror_mode": {
    "name": "ipython",
    "version": 3
   },
   "file_extension": ".py",
   "mimetype": "text/x-python",
   "name": "python",
   "nbconvert_exporter": "python",
   "pygments_lexer": "ipython3",
   "version": "3.8.5"
  },
  "orig_nbformat": 4
 },
 "nbformat": 4,
 "nbformat_minor": 2
}
